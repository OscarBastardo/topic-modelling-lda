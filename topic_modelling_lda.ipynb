{
 "cells": [
  {
   "cell_type": "markdown",
   "metadata": {},
   "source": [
    "# Topic Modelling with Latent Dirichlet Allocation (LDA)"
   ]
  },
  {
   "cell_type": "markdown",
   "metadata": {},
   "source": [
    "## The Data"
   ]
  },
  {
   "cell_type": "markdown",
   "metadata": {},
   "source": [
    "Australian Broadcasting Corp (ABC) news headlines over a period of 15 years.\n",
    "\n",
    "Source: [Kaggle](https://www.kaggle.com/therohk/million-headlines/data)"
   ]
  },
  {
   "cell_type": "code",
   "execution_count": 3,
   "metadata": {},
   "outputs": [],
   "source": [
    "import pandas as pd\n",
    "\n",
    "data = pd.read_csv('abcnews-date-text.csv', error_bad_lines=False)"
   ]
  },
  {
   "cell_type": "code",
   "execution_count": 4,
   "metadata": {},
   "outputs": [
    {
     "data": {
      "text/html": [
       "<div>\n",
       "<style scoped>\n",
       "    .dataframe tbody tr th:only-of-type {\n",
       "        vertical-align: middle;\n",
       "    }\n",
       "\n",
       "    .dataframe tbody tr th {\n",
       "        vertical-align: top;\n",
       "    }\n",
       "\n",
       "    .dataframe thead th {\n",
       "        text-align: right;\n",
       "    }\n",
       "</style>\n",
       "<table border=\"1\" class=\"dataframe\">\n",
       "  <thead>\n",
       "    <tr style=\"text-align: right;\">\n",
       "      <th></th>\n",
       "      <th>publish_date</th>\n",
       "      <th>headline_text</th>\n",
       "    </tr>\n",
       "  </thead>\n",
       "  <tbody>\n",
       "    <tr>\n",
       "      <th>0</th>\n",
       "      <td>20030219</td>\n",
       "      <td>aba decides against community broadcasting lic...</td>\n",
       "    </tr>\n",
       "    <tr>\n",
       "      <th>1</th>\n",
       "      <td>20030219</td>\n",
       "      <td>act fire witnesses must be aware of defamation</td>\n",
       "    </tr>\n",
       "    <tr>\n",
       "      <th>2</th>\n",
       "      <td>20030219</td>\n",
       "      <td>a g calls for infrastructure protection summit</td>\n",
       "    </tr>\n",
       "    <tr>\n",
       "      <th>3</th>\n",
       "      <td>20030219</td>\n",
       "      <td>air nz staff in aust strike for pay rise</td>\n",
       "    </tr>\n",
       "    <tr>\n",
       "      <th>4</th>\n",
       "      <td>20030219</td>\n",
       "      <td>air nz strike to affect australian travellers</td>\n",
       "    </tr>\n",
       "  </tbody>\n",
       "</table>\n",
       "</div>"
      ],
      "text/plain": [
       "   publish_date                                      headline_text\n",
       "0      20030219  aba decides against community broadcasting lic...\n",
       "1      20030219     act fire witnesses must be aware of defamation\n",
       "2      20030219     a g calls for infrastructure protection summit\n",
       "3      20030219           air nz staff in aust strike for pay rise\n",
       "4      20030219      air nz strike to affect australian travellers"
      ]
     },
     "execution_count": 4,
     "metadata": {},
     "output_type": "execute_result"
    }
   ],
   "source": [
    "data.head()"
   ]
  },
  {
   "cell_type": "code",
   "execution_count": 31,
   "metadata": {},
   "outputs": [],
   "source": [
    "# cool hack to turn pd series into pd dataframe [[]]\n",
    "\n",
    "data_text = data[['headline_text']]\n",
    "data_text['index'] = data_text.index\n",
    "\n",
    "documents = data_text"
   ]
  },
  {
   "cell_type": "code",
   "execution_count": 41,
   "metadata": {},
   "outputs": [
    {
     "name": "stdout",
     "output_type": "stream",
     "text": [
      "Nº Documents: 1103663\n"
     ]
    },
    {
     "data": {
      "text/html": [
       "<div>\n",
       "<style scoped>\n",
       "    .dataframe tbody tr th:only-of-type {\n",
       "        vertical-align: middle;\n",
       "    }\n",
       "\n",
       "    .dataframe tbody tr th {\n",
       "        vertical-align: top;\n",
       "    }\n",
       "\n",
       "    .dataframe thead th {\n",
       "        text-align: right;\n",
       "    }\n",
       "</style>\n",
       "<table border=\"1\" class=\"dataframe\">\n",
       "  <thead>\n",
       "    <tr style=\"text-align: right;\">\n",
       "      <th></th>\n",
       "      <th>headline_text</th>\n",
       "      <th>index</th>\n",
       "    </tr>\n",
       "  </thead>\n",
       "  <tbody>\n",
       "    <tr>\n",
       "      <th>0</th>\n",
       "      <td>aba decides against community broadcasting lic...</td>\n",
       "      <td>0</td>\n",
       "    </tr>\n",
       "    <tr>\n",
       "      <th>1</th>\n",
       "      <td>act fire witnesses must be aware of defamation</td>\n",
       "      <td>1</td>\n",
       "    </tr>\n",
       "    <tr>\n",
       "      <th>2</th>\n",
       "      <td>a g calls for infrastructure protection summit</td>\n",
       "      <td>2</td>\n",
       "    </tr>\n",
       "    <tr>\n",
       "      <th>3</th>\n",
       "      <td>air nz staff in aust strike for pay rise</td>\n",
       "      <td>3</td>\n",
       "    </tr>\n",
       "    <tr>\n",
       "      <th>4</th>\n",
       "      <td>air nz strike to affect australian travellers</td>\n",
       "      <td>4</td>\n",
       "    </tr>\n",
       "  </tbody>\n",
       "</table>\n",
       "</div>"
      ],
      "text/plain": [
       "                                       headline_text  index\n",
       "0  aba decides against community broadcasting lic...      0\n",
       "1     act fire witnesses must be aware of defamation      1\n",
       "2     a g calls for infrastructure protection summit      2\n",
       "3           air nz staff in aust strike for pay rise      3\n",
       "4      air nz strike to affect australian travellers      4"
      ]
     },
     "execution_count": 41,
     "metadata": {},
     "output_type": "execute_result"
    }
   ],
   "source": [
    "print('Nº Documents: %d' %len(documents))\n",
    "documents.head()"
   ]
  },
  {
   "cell_type": "markdown",
   "metadata": {},
   "source": [
    "## Data Pre-processing"
   ]
  },
  {
   "cell_type": "markdown",
   "metadata": {},
   "source": [
    "The following actions will be applied to the data\n",
    "\n",
    "- **Tokenisation**\n",
    "  - **split** text into sencences and sentences into words\n",
    "  - **lowercase** words\n",
    "  - remove **punctuations**\n",
    "- Remove words with **less than 3 characters**\n",
    "- Remove **stopwords**\n",
    "- Words are **lemmatised**\n",
    "- Words are **stemmed**"
   ]
  },
  {
   "cell_type": "code",
   "execution_count": null,
   "metadata": {},
   "outputs": [],
   "source": [
    "import gensim\n",
    "from gensim.utils import simple_preprocess\n",
    "from gensim.parsing.preprocessing import STOPWORDS\n",
    "from gensim.corpora import Dictionary\n",
    "\n",
    "import nltk\n",
    "from nltk.stem import WordNetLemmatizer, SnowballStemmer\n",
    "from nltk.stem.porter import *\n",
    "nltk.download('wordnet')\n",
    "\n",
    "import numpy as np\n",
    "np.random.seed(2019)"
   ]
  },
  {
   "cell_type": "markdown",
   "metadata": {},
   "source": [
    "Function to perform lemmatise and stemming preprocessing steps on the data"
   ]
  },
  {
   "cell_type": "code",
   "execution_count": 94,
   "metadata": {},
   "outputs": [],
   "source": [
    "stemmer = SnowballStemmer('english')\n",
    "\n",
    "def lemmatize_stemming(text):\n",
    "    return stemmer.stem(WordNetLemmatizer().lemmatize(text, pos='v'))\n",
    "\n",
    "def preprocess(text):\n",
    "    result = []\n",
    "    for token in simple_preprocess(text):\n",
    "        if token not in STOPWORDS and len(token) > 3:\n",
    "            result.append(lemmatize_stemming(token))\n",
    "    return result"
   ]
  },
  {
   "cell_type": "markdown",
   "metadata": {},
   "source": [
    "Test with a single document"
   ]
  },
  {
   "cell_type": "code",
   "execution_count": 128,
   "metadata": {},
   "outputs": [
    {
     "name": "stdout",
     "output_type": "stream",
     "text": [
      "original document: \n",
      "['patterson', 'irresponsible', 'with', 'no', 'show', 'edmond']\n",
      "\n",
      "\n",
      " tokenised and lemmatised document: \n",
      "['patterson', 'irrespons', 'edmond']\n"
     ]
    }
   ],
   "source": [
    "doc_sample = documents[documents['index'] == 611]['headline_text'].values[0]\n",
    "\n",
    "doc_sample\n",
    "\n",
    "print('original document: ')\n",
    "words = []\n",
    "for word in doc_sample.split(' '):\n",
    "    words.append(word)\n",
    "print(words)\n",
    "print('\\n\\n tokenised and lemmatised document: ')\n",
    "print(preprocess(doc_sample))"
   ]
  },
  {
   "cell_type": "markdown",
   "metadata": {},
   "source": [
    "Applying the preprocess function to the whole dataset (will take some time)"
   ]
  },
  {
   "cell_type": "code",
   "execution_count": 97,
   "metadata": {},
   "outputs": [
    {
     "data": {
      "text/plain": [
       "0            [decid, communiti, broadcast, licenc]\n",
       "1                               [wit, awar, defam]\n",
       "2           [call, infrastructur, protect, summit]\n",
       "3                      [staff, aust, strike, rise]\n",
       "4             [strike, affect, australian, travel]\n",
       "5               [ambiti, olsson, win, tripl, jump]\n",
       "6           [antic, delight, record, break, barca]\n",
       "7    [aussi, qualifi, stosur, wast, memphi, match]\n",
       "8            [aust, address, secur, council, iraq]\n",
       "9                         [australia, lock, timet]\n",
       "Name: headline_text, dtype: object"
      ]
     },
     "execution_count": 97,
     "metadata": {},
     "output_type": "execute_result"
    }
   ],
   "source": [
    "processed_docs = documents['headline_text'].map(preprocess)\n",
    "processed_docs[:10]"
   ]
  },
  {
   "cell_type": "markdown",
   "metadata": {},
   "source": [
    "## Bag of Words on the Data set"
   ]
  },
  {
   "cell_type": "markdown",
   "metadata": {},
   "source": [
    "Create a dictionary containing the number of occurences of a word in the documents"
   ]
  },
  {
   "cell_type": "code",
   "execution_count": 103,
   "metadata": {},
   "outputs": [
    {
     "name": "stdout",
     "output_type": "stream",
     "text": [
      "0 broadcast\n",
      "1 communiti\n",
      "2 decid\n",
      "3 licenc\n",
      "4 awar\n",
      "5 defam\n",
      "6 wit\n",
      "7 call\n",
      "8 infrastructur\n",
      "9 protect\n",
      "10 summit\n"
     ]
    }
   ],
   "source": [
    "dictionary = Dictionary(processed_docs)\n",
    "\n",
    "count = 0\n",
    "for k, v in dictionary.iteritems():\n",
    "    print(k, v)\n",
    "    count += 1\n",
    "    if count > 10:\n",
    "        break"
   ]
  },
  {
   "cell_type": "markdown",
   "metadata": {},
   "source": [
    "Filter out tokens that appear in:\n",
    "- less than 15 documents\n",
    "- more than half of the documents\n",
    "\n",
    "After the above, keep only the first 100k most frequent tokens"
   ]
  },
  {
   "cell_type": "code",
   "execution_count": 101,
   "metadata": {},
   "outputs": [],
   "source": [
    "dictionary.filter_extremes(no_below=15, no_above=0.5, keep_n=100000)"
   ]
  },
  {
   "cell_type": "markdown",
   "metadata": {},
   "source": [
    "For each processed document create a list of dictionaries per word with its index and number of appereances"
   ]
  },
  {
   "cell_type": "code",
   "execution_count": 129,
   "metadata": {},
   "outputs": [
    {
     "data": {
      "text/plain": [
       "[(436, 1), (1439, 1), (1440, 1)]"
      ]
     },
     "execution_count": 129,
     "metadata": {},
     "output_type": "execute_result"
    }
   ],
   "source": [
    "bow_corpus = [dictionary.doc2bow(doc) for doc in processed_docs]\n",
    "bow_corpus[611]"
   ]
  },
  {
   "cell_type": "markdown",
   "metadata": {},
   "source": [
    "Preview of BoW for a sample preprocessed document"
   ]
  },
  {
   "cell_type": "code",
   "execution_count": 132,
   "metadata": {},
   "outputs": [
    {
     "name": "stdout",
     "output_type": "stream",
     "text": [
      "Word 436 (\"patterson\") appears 1 time(s).\n",
      "Word 1439 (\"edmond\") appears 1 time(s).\n",
      "Word 1440 (\"irrespons\") appears 1 time(s).\n"
     ]
    }
   ],
   "source": [
    "bow_doc_611 = bow_corpus[611]\n",
    "\n",
    "for i in range(len(bow_doc_611)):\n",
    "    print('Word {} (\"{}\") appears {} time(s).'.format(\n",
    "        bow_doc_611[i][0],\n",
    "        dictionary[bow_doc_611[i][0]],\n",
    "        bow_doc_611[i][1]\n",
    "    ))"
   ]
  },
  {
   "cell_type": "markdown",
   "metadata": {},
   "source": [
    "## TF-IDF"
   ]
  },
  {
   "cell_type": "markdown",
   "metadata": {},
   "source": [
    "Create a TF-IDF model using the bow corpus"
   ]
  },
  {
   "cell_type": "code",
   "execution_count": 113,
   "metadata": {},
   "outputs": [
    {
     "name": "stdout",
     "output_type": "stream",
     "text": [
      "[(0, 0.5892908867507543),\n",
      " (1, 0.38929654337861147),\n",
      " (2, 0.4964985175717023),\n",
      " (3, 0.5046520327464028)]\n"
     ]
    }
   ],
   "source": [
    "from gensim import corpora, models\n",
    "\n",
    "tfidf = models.TfidfModel(bow_corpus)\n",
    "corpus_tfidf = tfidf[bow_corpus]\n",
    "\n",
    "from pprint import pprint\n",
    "\n",
    "for doc in corpus_tfidf:\n",
    "    pprint(doc)\n",
    "    break"
   ]
  },
  {
   "cell_type": "markdown",
   "metadata": {},
   "source": [
    "## LDA Model with BoW"
   ]
  },
  {
   "cell_type": "markdown",
   "metadata": {},
   "source": [
    "For each topic, explore the worlds occuring in that topic and its relative weight"
   ]
  },
  {
   "cell_type": "code",
   "execution_count": 117,
   "metadata": {},
   "outputs": [],
   "source": [
    "from gensim.models import LdaMulticore\n",
    "\n",
    "lda_model = LdaMulticore(bow_corpus, num_topics=10, id2word=dictionary, passes=2, workers=2)"
   ]
  },
  {
   "cell_type": "code",
   "execution_count": 122,
   "metadata": {},
   "outputs": [
    {
     "name": "stdout",
     "output_type": "stream",
     "text": [
      "Topic: 0 \n",
      "Words: 0.022*\"year\" + 0.019*\"interview\" + 0.015*\"peopl\" + 0.013*\"famili\" + 0.011*\"open\" + 0.011*\"port\" + 0.011*\"john\" + 0.011*\"jail\" + 0.010*\"season\" + 0.009*\"sentenc\"\n",
      "Topic: 1 \n",
      "Words: 0.026*\"govern\" + 0.022*\"queensland\" + 0.018*\"report\" + 0.016*\"say\" + 0.013*\"health\" + 0.013*\"rural\" + 0.011*\"child\" + 0.010*\"minist\" + 0.010*\"labor\" + 0.009*\"abus\"\n",
      "Topic: 2 \n",
      "Words: 0.028*\"elect\" + 0.027*\"charg\" + 0.024*\"murder\" + 0.019*\"polic\" + 0.017*\"live\" + 0.015*\"drug\" + 0.014*\"alleg\" + 0.013*\"claim\" + 0.012*\"accus\" + 0.011*\"assault\"\n",
      "Topic: 3 \n",
      "Words: 0.045*\"australia\" + 0.021*\"world\" + 0.015*\"test\" + 0.014*\"final\" + 0.013*\"hospit\" + 0.013*\"donald\" + 0.011*\"time\" + 0.010*\"win\" + 0.009*\"return\" + 0.009*\"record\"\n",
      "Topic: 4 \n",
      "Words: 0.026*\"attack\" + 0.023*\"kill\" + 0.021*\"crash\" + 0.018*\"die\" + 0.018*\"countri\" + 0.016*\"shoot\" + 0.015*\"hour\" + 0.015*\"dead\" + 0.014*\"polic\" + 0.012*\"train\"\n",
      "Topic: 5 \n",
      "Words: 0.023*\"adelaid\" + 0.018*\"market\" + 0.014*\"turnbul\" + 0.014*\"high\" + 0.013*\"share\" + 0.013*\"break\" + 0.012*\"australian\" + 0.010*\"news\" + 0.010*\"lead\" + 0.009*\"fall\"\n",
      "Topic: 6 \n",
      "Words: 0.022*\"polic\" + 0.020*\"canberra\" + 0.020*\"death\" + 0.018*\"help\" + 0.016*\"miss\" + 0.013*\"island\" + 0.011*\"flood\" + 0.011*\"driver\" + 0.010*\"woman\" + 0.010*\"search\"\n",
      "Topic: 7 \n",
      "Words: 0.032*\"sydney\" + 0.022*\"south\" + 0.022*\"north\" + 0.020*\"coast\" + 0.015*\"west\" + 0.014*\"chang\" + 0.013*\"gold\" + 0.011*\"guilti\" + 0.011*\"budget\" + 0.010*\"royal\"\n",
      "Topic: 8 \n",
      "Words: 0.032*\"court\" + 0.020*\"face\" + 0.017*\"china\" + 0.014*\"fight\" + 0.013*\"leagu\" + 0.012*\"tell\" + 0.011*\"case\" + 0.010*\"hear\" + 0.010*\"violenc\" + 0.009*\"marriag\"\n",
      "Topic: 9 \n",
      "Words: 0.029*\"trump\" + 0.015*\"plan\" + 0.015*\"council\" + 0.013*\"tasmania\" + 0.011*\"water\" + 0.011*\"work\" + 0.010*\"communiti\" + 0.010*\"concern\" + 0.010*\"rise\" + 0.009*\"say\"\n"
     ]
    }
   ],
   "source": [
    "for idx, topic in lda_model.print_topics(-1):\n",
    "    print('Topic: {} \\nWords: {}'.format(idx, topic))"
   ]
  },
  {
   "cell_type": "markdown",
   "metadata": {},
   "source": [
    "Are the topics distinguishable by looking at their words and weights?"
   ]
  },
  {
   "cell_type": "markdown",
   "metadata": {},
   "source": [
    "## LDA with TF-IDF"
   ]
  },
  {
   "cell_type": "code",
   "execution_count": 124,
   "metadata": {},
   "outputs": [
    {
     "name": "stdout",
     "output_type": "stream",
     "text": [
      "Topic: 9 \n",
      "Words: 0.007*\"octob\" + 0.006*\"wall\" + 0.006*\"peter\" + 0.005*\"fiji\" + 0.005*\"street\" + 0.004*\"david\" + 0.004*\"wallabi\" + 0.004*\"georg\" + 0.004*\"beat\" + 0.004*\"data\"\n",
      "Topic: 9 \n",
      "Words: 0.010*\"drum\" + 0.009*\"turnbul\" + 0.007*\"abbott\" + 0.007*\"marriag\" + 0.007*\"violenc\" + 0.006*\"septemb\" + 0.006*\"tuesday\" + 0.005*\"domest\" + 0.005*\"elect\" + 0.005*\"toni\"\n",
      "Topic: 9 \n",
      "Words: 0.008*\"donald\" + 0.007*\"royal\" + 0.006*\"commiss\" + 0.006*\"novemb\" + 0.005*\"abus\" + 0.004*\"child\" + 0.004*\"say\" + 0.004*\"tree\" + 0.004*\"court\" + 0.004*\"liber\"\n",
      "Topic: 9 \n",
      "Words: 0.021*\"countri\" + 0.019*\"hour\" + 0.009*\"weather\" + 0.006*\"flood\" + 0.006*\"rain\" + 0.005*\"asylum\" + 0.005*\"coast\" + 0.005*\"cyclon\" + 0.005*\"queensland\" + 0.005*\"seeker\"\n",
      "Topic: 9 \n",
      "Words: 0.008*\"christma\" + 0.007*\"thursday\" + 0.006*\"korea\" + 0.005*\"detent\" + 0.005*\"spring\" + 0.004*\"island\" + 0.004*\"cancer\" + 0.004*\"februari\" + 0.004*\"say\" + 0.004*\"dump\"\n",
      "Topic: 9 \n",
      "Words: 0.009*\"australia\" + 0.009*\"world\" + 0.008*\"final\" + 0.007*\"leagu\" + 0.005*\"friday\" + 0.005*\"rugbi\" + 0.005*\"test\" + 0.005*\"cricket\" + 0.005*\"open\" + 0.005*\"june\"\n",
      "Topic: 9 \n",
      "Words: 0.012*\"rural\" + 0.010*\"market\" + 0.009*\"govern\" + 0.008*\"news\" + 0.007*\"price\" + 0.007*\"share\" + 0.006*\"health\" + 0.005*\"fund\" + 0.005*\"busi\" + 0.005*\"australian\"\n",
      "Topic: 9 \n",
      "Words: 0.007*\"juli\" + 0.006*\"monday\" + 0.006*\"wednesday\" + 0.006*\"ash\" + 0.006*\"decemb\" + 0.005*\"climat\" + 0.005*\"stori\" + 0.005*\"andrew\" + 0.005*\"kill\" + 0.005*\"disabl\"\n",
      "Topic: 9 \n",
      "Words: 0.016*\"trump\" + 0.015*\"charg\" + 0.013*\"polic\" + 0.011*\"murder\" + 0.009*\"court\" + 0.008*\"assault\" + 0.008*\"jail\" + 0.008*\"woman\" + 0.008*\"alleg\" + 0.007*\"death\"\n",
      "Topic: 9 \n",
      "Words: 0.015*\"crash\" + 0.013*\"interview\" + 0.011*\"podcast\" + 0.007*\"die\" + 0.006*\"hobart\" + 0.006*\"truck\" + 0.006*\"august\" + 0.006*\"driver\" + 0.005*\"fatal\" + 0.005*\"polic\"\n"
     ]
    }
   ],
   "source": [
    "lda_model_tfidf = LdaMulticore(corpus_tfidf, num_topics=10, id2word=dictionary, passes=2, workers=4)\n",
    "\n",
    "for id, topic in lda_model_tfidf.print_topics(-1):\n",
    "    print('Topic: {} \\nWords: {}'.format(idx, topic))"
   ]
  },
  {
   "cell_type": "markdown",
   "metadata": {},
   "source": [
    "Are the topics distinguishable by looking at their words and weights?"
   ]
  },
  {
   "cell_type": "markdown",
   "metadata": {},
   "source": [
    "## Performance evaluation by classifying sample document"
   ]
  },
  {
   "cell_type": "markdown",
   "metadata": {},
   "source": [
    "### LDA BoW Model"
   ]
  },
  {
   "cell_type": "code",
   "execution_count": 141,
   "metadata": {},
   "outputs": [
    {
     "data": {
      "text/plain": [
       "['patterson', 'irrespons', 'edmond']"
      ]
     },
     "execution_count": 141,
     "metadata": {},
     "output_type": "execute_result"
    }
   ],
   "source": [
    "wordId = 611\n",
    "processed_docs[wordId]"
   ]
  },
  {
   "cell_type": "code",
   "execution_count": 142,
   "metadata": {},
   "outputs": [
    {
     "name": "stdout",
     "output_type": "stream",
     "text": [
      "\n",
      "Score: 0.7749999761581421\t \n",
      "Topic: 0.026*\"govern\" + 0.022*\"queensland\" + 0.018*\"report\" + 0.016*\"say\" + 0.013*\"health\" + 0.013*\"rural\" + 0.011*\"child\" + 0.010*\"minist\" + 0.010*\"labor\" + 0.009*\"abus\"\n",
      "\n",
      "Score: 0.02500000037252903\t \n",
      "Topic: 0.022*\"year\" + 0.019*\"interview\" + 0.015*\"peopl\" + 0.013*\"famili\" + 0.011*\"open\" + 0.011*\"port\" + 0.011*\"john\" + 0.011*\"jail\" + 0.010*\"season\" + 0.009*\"sentenc\"\n",
      "\n",
      "Score: 0.02500000037252903\t \n",
      "Topic: 0.028*\"elect\" + 0.027*\"charg\" + 0.024*\"murder\" + 0.019*\"polic\" + 0.017*\"live\" + 0.015*\"drug\" + 0.014*\"alleg\" + 0.013*\"claim\" + 0.012*\"accus\" + 0.011*\"assault\"\n",
      "\n",
      "Score: 0.02500000037252903\t \n",
      "Topic: 0.045*\"australia\" + 0.021*\"world\" + 0.015*\"test\" + 0.014*\"final\" + 0.013*\"hospit\" + 0.013*\"donald\" + 0.011*\"time\" + 0.010*\"win\" + 0.009*\"return\" + 0.009*\"record\"\n",
      "\n",
      "Score: 0.02500000037252903\t \n",
      "Topic: 0.026*\"attack\" + 0.023*\"kill\" + 0.021*\"crash\" + 0.018*\"die\" + 0.018*\"countri\" + 0.016*\"shoot\" + 0.015*\"hour\" + 0.015*\"dead\" + 0.014*\"polic\" + 0.012*\"train\"\n",
      "\n",
      "Score: 0.02500000037252903\t \n",
      "Topic: 0.023*\"adelaid\" + 0.018*\"market\" + 0.014*\"turnbul\" + 0.014*\"high\" + 0.013*\"share\" + 0.013*\"break\" + 0.012*\"australian\" + 0.010*\"news\" + 0.010*\"lead\" + 0.009*\"fall\"\n",
      "\n",
      "Score: 0.02500000037252903\t \n",
      "Topic: 0.022*\"polic\" + 0.020*\"canberra\" + 0.020*\"death\" + 0.018*\"help\" + 0.016*\"miss\" + 0.013*\"island\" + 0.011*\"flood\" + 0.011*\"driver\" + 0.010*\"woman\" + 0.010*\"search\"\n",
      "\n",
      "Score: 0.02500000037252903\t \n",
      "Topic: 0.032*\"sydney\" + 0.022*\"south\" + 0.022*\"north\" + 0.020*\"coast\" + 0.015*\"west\" + 0.014*\"chang\" + 0.013*\"gold\" + 0.011*\"guilti\" + 0.011*\"budget\" + 0.010*\"royal\"\n",
      "\n",
      "Score: 0.02500000037252903\t \n",
      "Topic: 0.032*\"court\" + 0.020*\"face\" + 0.017*\"china\" + 0.014*\"fight\" + 0.013*\"leagu\" + 0.012*\"tell\" + 0.011*\"case\" + 0.010*\"hear\" + 0.010*\"violenc\" + 0.009*\"marriag\"\n",
      "\n",
      "Score: 0.02500000037252903\t \n",
      "Topic: 0.029*\"trump\" + 0.015*\"plan\" + 0.015*\"council\" + 0.013*\"tasmania\" + 0.011*\"water\" + 0.011*\"work\" + 0.010*\"communiti\" + 0.010*\"concern\" + 0.010*\"rise\" + 0.009*\"say\"\n"
     ]
    }
   ],
   "source": [
    "for index, score in sorted(lda_model[bow_corpus[wordId]], key=lambda tup: -1*tup[1]):\n",
    "    print('\\nScore: {}\\t \\nTopic: {}'.format(score, lda_model.print_topic(index, 10)))"
   ]
  },
  {
   "cell_type": "markdown",
   "metadata": {},
   "source": [
    "### LDA TF-IDF Model"
   ]
  },
  {
   "cell_type": "code",
   "execution_count": 143,
   "metadata": {},
   "outputs": [
    {
     "name": "stdout",
     "output_type": "stream",
     "text": [
      "\n",
      "Score: 0.5249999761581421\t \n",
      "Topic: 0.021*\"countri\" + 0.019*\"hour\" + 0.009*\"weather\" + 0.006*\"flood\" + 0.006*\"rain\" + 0.005*\"asylum\" + 0.005*\"coast\" + 0.005*\"cyclon\" + 0.005*\"queensland\" + 0.005*\"seeker\"\n",
      "\n",
      "Score: 0.27500006556510925\t \n",
      "Topic: 0.008*\"christma\" + 0.007*\"thursday\" + 0.006*\"korea\" + 0.005*\"detent\" + 0.005*\"spring\" + 0.004*\"island\" + 0.004*\"cancer\" + 0.004*\"februari\" + 0.004*\"say\" + 0.004*\"dump\"\n",
      "\n",
      "Score: 0.02500000223517418\t \n",
      "Topic: 0.007*\"octob\" + 0.006*\"wall\" + 0.006*\"peter\" + 0.005*\"fiji\" + 0.005*\"street\" + 0.004*\"david\" + 0.004*\"wallabi\" + 0.004*\"georg\" + 0.004*\"beat\" + 0.004*\"data\"\n",
      "\n",
      "Score: 0.02500000223517418\t \n",
      "Topic: 0.010*\"drum\" + 0.009*\"turnbul\" + 0.007*\"abbott\" + 0.007*\"marriag\" + 0.007*\"violenc\" + 0.006*\"septemb\" + 0.006*\"tuesday\" + 0.005*\"domest\" + 0.005*\"elect\" + 0.005*\"toni\"\n",
      "\n",
      "Score: 0.02500000223517418\t \n",
      "Topic: 0.008*\"donald\" + 0.007*\"royal\" + 0.006*\"commiss\" + 0.006*\"novemb\" + 0.005*\"abus\" + 0.004*\"child\" + 0.004*\"say\" + 0.004*\"tree\" + 0.004*\"court\" + 0.004*\"liber\"\n",
      "\n",
      "Score: 0.02500000223517418\t \n",
      "Topic: 0.009*\"australia\" + 0.009*\"world\" + 0.008*\"final\" + 0.007*\"leagu\" + 0.005*\"friday\" + 0.005*\"rugbi\" + 0.005*\"test\" + 0.005*\"cricket\" + 0.005*\"open\" + 0.005*\"june\"\n",
      "\n",
      "Score: 0.02500000223517418\t \n",
      "Topic: 0.012*\"rural\" + 0.010*\"market\" + 0.009*\"govern\" + 0.008*\"news\" + 0.007*\"price\" + 0.007*\"share\" + 0.006*\"health\" + 0.005*\"fund\" + 0.005*\"busi\" + 0.005*\"australian\"\n",
      "\n",
      "Score: 0.02500000223517418\t \n",
      "Topic: 0.007*\"juli\" + 0.006*\"monday\" + 0.006*\"wednesday\" + 0.006*\"ash\" + 0.006*\"decemb\" + 0.005*\"climat\" + 0.005*\"stori\" + 0.005*\"andrew\" + 0.005*\"kill\" + 0.005*\"disabl\"\n",
      "\n",
      "Score: 0.02500000223517418\t \n",
      "Topic: 0.016*\"trump\" + 0.015*\"charg\" + 0.013*\"polic\" + 0.011*\"murder\" + 0.009*\"court\" + 0.008*\"assault\" + 0.008*\"jail\" + 0.008*\"woman\" + 0.008*\"alleg\" + 0.007*\"death\"\n",
      "\n",
      "Score: 0.02500000223517418\t \n",
      "Topic: 0.015*\"crash\" + 0.013*\"interview\" + 0.011*\"podcast\" + 0.007*\"die\" + 0.006*\"hobart\" + 0.006*\"truck\" + 0.006*\"august\" + 0.006*\"driver\" + 0.005*\"fatal\" + 0.005*\"polic\"\n"
     ]
    }
   ],
   "source": [
    "for index, score in sorted(lda_model_tfidf[bow_corpus[wordId]], key=lambda tup: -1*tup[1]):\n",
    "     print('\\nScore: {}\\t \\nTopic: {}'.format(score, lda_model_tfidf.print_topic(index, 10)))"
   ]
  },
  {
   "cell_type": "markdown",
   "metadata": {},
   "source": [
    "In both cases the test document has the highest probability to part of the topic on the top"
   ]
  },
  {
   "cell_type": "markdown",
   "metadata": {},
   "source": [
    "### Testing model on unseen document"
   ]
  },
  {
   "cell_type": "code",
   "execution_count": 149,
   "metadata": {},
   "outputs": [
    {
     "name": "stdout",
     "output_type": "stream",
     "text": [
      "Score: 0.5948548316955566\t Topic: 0.022*\"polic\" + 0.020*\"canberra\" + 0.020*\"death\" + 0.018*\"help\" + 0.016*\"miss\"\n",
      "Score: 0.2718096077442169\t Topic: 0.026*\"attack\" + 0.023*\"kill\" + 0.021*\"crash\" + 0.018*\"die\" + 0.018*\"countri\"\n",
      "Score: 0.016668451949954033\t Topic: 0.028*\"elect\" + 0.027*\"charg\" + 0.024*\"murder\" + 0.019*\"polic\" + 0.017*\"live\"\n",
      "Score: 0.016667073592543602\t Topic: 0.032*\"court\" + 0.020*\"face\" + 0.017*\"china\" + 0.014*\"fight\" + 0.013*\"leagu\"\n",
      "Score: 0.01666666753590107\t Topic: 0.022*\"year\" + 0.019*\"interview\" + 0.015*\"peopl\" + 0.013*\"famili\" + 0.011*\"open\"\n",
      "Score: 0.01666666753590107\t Topic: 0.026*\"govern\" + 0.022*\"queensland\" + 0.018*\"report\" + 0.016*\"say\" + 0.013*\"health\"\n",
      "Score: 0.01666666753590107\t Topic: 0.045*\"australia\" + 0.021*\"world\" + 0.015*\"test\" + 0.014*\"final\" + 0.013*\"hospit\"\n",
      "Score: 0.01666666753590107\t Topic: 0.023*\"adelaid\" + 0.018*\"market\" + 0.014*\"turnbul\" + 0.014*\"high\" + 0.013*\"share\"\n",
      "Score: 0.01666666753590107\t Topic: 0.032*\"sydney\" + 0.022*\"south\" + 0.022*\"north\" + 0.020*\"coast\" + 0.015*\"west\"\n",
      "Score: 0.01666666753590107\t Topic: 0.029*\"trump\" + 0.015*\"plan\" + 0.015*\"council\" + 0.013*\"tasmania\" + 0.011*\"water\"\n"
     ]
    }
   ],
   "source": [
    "unseen_document = 'Police investigate shooting of woman at Karawatha property'\n",
    "bow_vector = dictionary.doc2bow(preprocess(unseen_document))\n",
    "\n",
    "for index, score in sorted(lda_model[bow_vector], key=lambda tup: -1*tup[1]):\n",
    "    print(\"Score: {}\\t Topic: {}\".format(score, lda_model.print_topic(index, 5)))"
   ]
  }
 ],
 "metadata": {
  "kernelspec": {
   "display_name": "Python 3",
   "language": "python",
   "name": "python3"
  },
  "language_info": {
   "codemirror_mode": {
    "name": "ipython",
    "version": 3
   },
   "file_extension": ".py",
   "mimetype": "text/x-python",
   "name": "python",
   "nbconvert_exporter": "python",
   "pygments_lexer": "ipython3",
   "version": "3.7.1"
  }
 },
 "nbformat": 4,
 "nbformat_minor": 2
}
